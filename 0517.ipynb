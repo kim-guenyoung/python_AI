{
 "cells": [
  {
   "cell_type": "code",
   "execution_count": null,
   "metadata": {},
   "outputs": [],
   "source": [
    "#매개변수 : 함수의 입력으로 전달된 값을 받는 변수\n",
    "#인수 : 함수를 호출할 때 전달하는 입력값\n",
    "#return : 함수의 결과 값을 함수 밖에서도 변수로 사용\n",
    "# *args : 입력값의 개수가 유동적일 때는 for문을 사용"
   ]
  },
  {
   "cell_type": "code",
   "execution_count": 1,
   "metadata": {},
   "outputs": [
    {
     "name": "stdout",
     "output_type": "stream",
     "text": [
      "2 4 6 8 10 12 14 16 18 \n",
      "3 6 9 12 15 18 21 24 27 \n",
      "4 8 12 16 20 24 28 32 36 \n",
      "5 10 15 20 25 30 35 40 45 \n",
      "6 12 18 24 30 36 42 48 54 \n",
      "7 14 21 28 35 42 49 56 63 \n",
      "8 16 24 32 40 48 56 64 72 \n",
      "9 18 27 36 45 54 63 72 81 \n"
     ]
    }
   ],
   "source": [
    "for i in range(2, 10):\n",
    "    for j in range(1, 10):\n",
    "        print(i * j, end = \" \")\n",
    "    print()"
   ]
  },
  {
   "cell_type": "code",
   "execution_count": 5,
   "metadata": {},
   "outputs": [
    {
     "data": {
      "text/plain": [
       "101"
      ]
     },
     "execution_count": 5,
     "metadata": {},
     "output_type": "execute_result"
    }
   ],
   "source": [
    "out = 100\n",
    "def test(): #매개변수 입력 X\n",
    "    global out\n",
    "    #global은 함수밖의 변수를 사용하기 때문에 매개변수 입력필요X\n",
    "    out += 1\n",
    "    return out\n",
    "test()"
   ]
  },
  {
   "cell_type": "code",
   "execution_count": 6,
   "metadata": {},
   "outputs": [
    {
     "data": {
      "text/plain": [
       "False"
      ]
     },
     "execution_count": 6,
     "metadata": {},
     "output_type": "execute_result"
    }
   ],
   "source": [
    "# 입력으로 들어오는 모든 수의 평균 값을 계산해주는 함수를 작성하자\n",
    "def is_odd(n):\n",
    "    if(n % 2 != 0):\n",
    "        return True\n",
    "    else:\n",
    "        return False\n",
    "    \n",
    "num = int(input(\"자연수를 입력 : \"))\n",
    "is_odd(num)"
   ]
  },
  {
   "cell_type": "code",
   "execution_count": 7,
   "metadata": {},
   "outputs": [
    {
     "data": {
      "text/plain": [
       "3.0"
      ]
     },
     "execution_count": 7,
     "metadata": {},
     "output_type": "execute_result"
    }
   ],
   "source": [
    "def numbers_avg(*args): #입력 개수에 상관없이 사용하기 위해 *args 사용\n",
    "    result = 0\n",
    "    for i in args:\n",
    "        result += i\n",
    "    return result /len(args)\n",
    "\n",
    "numbers_avg(1, 2, 3, 4 ,5)"
   ]
  },
  {
   "cell_type": "code",
   "execution_count": 9,
   "metadata": {},
   "outputs": [
    {
     "data": {
      "text/plain": [
       "0.5"
      ]
     },
     "execution_count": 9,
     "metadata": {},
     "output_type": "execute_result"
    }
   ],
   "source": [
    "# 예외처리 try, except\n",
    "#try : 기본 수행 문장들 입력\n",
    "#except : 문제가 발생하면 수행할 문장 입력\n",
    "def div(a, b):\n",
    "    try:\n",
    "        return a/b\n",
    "    except ZeroDivisionError:\n",
    "        return \"계산식 표현 불가\"\n",
    "    \n",
    "div(1, 0)\n",
    "div(2, 4)"
   ]
  },
  {
   "cell_type": "code",
   "execution_count": 10,
   "metadata": {},
   "outputs": [
    {
     "name": "stdout",
     "output_type": "stream",
     "text": [
      "(0, 'a')\n",
      "(1, 'b')\n",
      "(2, 'c')\n"
     ]
    }
   ],
   "source": [
    "#enumerate : 반복 가능한 객체의 인덱스와 원소와 함께 접근할 수 있는 함수\n",
    "#tuple 형태로 반환하며 보통 리스트 구조 데이터 사용\n",
    "# 몇 번째인지 확인하고자 할 때 주로 사용\n",
    "list1 = ['a', 'b', 'c']\n",
    "for x in enumerate(list1):\n",
    "    print(x)"
   ]
  },
  {
   "cell_type": "code",
   "execution_count": 14,
   "metadata": {},
   "outputs": [
    {
     "name": "stdout",
     "output_type": "stream",
     "text": [
      "번호 : 1, 성 : 김씨\n",
      "번호 : 2, 성 : 최씨\n",
      "번호 : 3, 성 : 이씨\n"
     ]
    }
   ],
   "source": [
    "people = [\"김씨\", \"최씨\", \"이씨\"]\n",
    "i = 1\n",
    "for j in people:\n",
    "    print(\"번호 : {}, 성 : {}\".format(i, j))\n",
    "    i += 1"
   ]
  },
  {
   "cell_type": "code",
   "execution_count": 17,
   "metadata": {},
   "outputs": [
    {
     "data": {
      "text/plain": [
       "(0, '김씨')"
      ]
     },
     "execution_count": 17,
     "metadata": {},
     "output_type": "execute_result"
    }
   ],
   "source": [
    "x = enumerate(people)\n",
    "next(x)"
   ]
  },
  {
   "cell_type": "code",
   "execution_count": 18,
   "metadata": {},
   "outputs": [
    {
     "data": {
      "text/plain": [
       "<zip at 0x107a35a00>"
      ]
     },
     "execution_count": 18,
     "metadata": {},
     "output_type": "execute_result"
    }
   ],
   "source": [
    "zip([1, 2, 3], [4, 5])"
   ]
  },
  {
   "cell_type": "code",
   "execution_count": 20,
   "metadata": {},
   "outputs": [
    {
     "data": {
      "text/plain": [
       "[(1, 4), (2, 5)]"
      ]
     },
     "execution_count": 20,
     "metadata": {},
     "output_type": "execute_result"
    }
   ],
   "source": [
    "list(zip([1, 2, 3], [4, 5]))"
   ]
  },
  {
   "cell_type": "code",
   "execution_count": 23,
   "metadata": {},
   "outputs": [
    {
     "data": {
      "text/plain": [
       "(1, 4, 7)"
      ]
     },
     "execution_count": 23,
     "metadata": {},
     "output_type": "execute_result"
    }
   ],
   "source": [
    "a = zip([1, 2, 3], [4, 5, 6], [7, 8, 9])\n",
    "next(a)"
   ]
  },
  {
   "cell_type": "code",
   "execution_count": 24,
   "metadata": {},
   "outputs": [
    {
     "data": {
      "text/plain": [
       "[(1, 4), (2, 5)]"
      ]
     },
     "execution_count": 24,
     "metadata": {},
     "output_type": "execute_result"
    }
   ],
   "source": [
    "list(zip([1, 2, 3], [4, 5])) #매칭이 안되는 값 제거"
   ]
  },
  {
   "cell_type": "code",
   "execution_count": 25,
   "metadata": {},
   "outputs": [
    {
     "data": {
      "text/plain": [
       "[('one', 1), ('ttwo', 2)]"
      ]
     },
     "execution_count": 25,
     "metadata": {},
     "output_type": "execute_result"
    }
   ],
   "source": [
    "list(zip(['one', 'ttwo'], [1, 2]))"
   ]
  },
  {
   "cell_type": "code",
   "execution_count": 26,
   "metadata": {},
   "outputs": [
    {
     "name": "stdout",
     "output_type": "stream",
     "text": [
      "한글 : 사과, 영어 : apple\n",
      "한글 : 바나나, 영어 : banana\n",
      "한글 : 오렌지, 영어 : orange\n"
     ]
    }
   ],
   "source": [
    "kor = [\"사과\", \"바나나\", \"오렌지\"]\n",
    "eng = ['apple', \"banana\", \"orange\"]\n",
    "\n",
    "for a, b in zip(kor, eng):\n",
    "    print(\"한글 : {}, 영어 : {}\".format(a, b))"
   ]
  },
  {
   "cell_type": "code",
   "execution_count": 27,
   "metadata": {},
   "outputs": [
    {
     "data": {
      "text/plain": [
       "3"
      ]
     },
     "execution_count": 27,
     "metadata": {},
     "output_type": "execute_result"
    }
   ],
   "source": [
    "#lambda : 함수 생성시 사용하는 예약어로 def와 동일한 역할\n",
    "def add(a, b):\n",
    "    return a + b\n",
    "add(1, 2)"
   ]
  },
  {
   "cell_type": "code",
   "execution_count": 28,
   "metadata": {},
   "outputs": [
    {
     "data": {
      "text/plain": [
       "3"
      ]
     },
     "execution_count": 28,
     "metadata": {},
     "output_type": "execute_result"
    }
   ],
   "source": [
    "add = lambda a, b: a+ b\n",
    "add(1, 2)"
   ]
  },
  {
   "cell_type": "code",
   "execution_count": 29,
   "metadata": {},
   "outputs": [
    {
     "data": {
      "text/plain": [
       "range(0, 4)"
      ]
     },
     "execution_count": 29,
     "metadata": {},
     "output_type": "execute_result"
    }
   ],
   "source": [
    "#map : for문과 map 함수 비교\n",
    "a = [1.1, 2.3, 3.5, 4.1]\n",
    "range(len(a))"
   ]
  },
  {
   "cell_type": "code",
   "execution_count": 32,
   "metadata": {},
   "outputs": [
    {
     "data": {
      "text/plain": [
       "['1.1', '2.3', '3.5', '4.1']"
      ]
     },
     "execution_count": 32,
     "metadata": {},
     "output_type": "execute_result"
    }
   ],
   "source": [
    "for i in range(len(a)):\n",
    "    a[i] = str(a[i])\n",
    "\n",
    "a"
   ]
  },
  {
   "cell_type": "code",
   "execution_count": 33,
   "metadata": {},
   "outputs": [
    {
     "data": {
      "text/plain": [
       "['1.1', '2.3', '3.5', '4.1']"
      ]
     },
     "execution_count": 33,
     "metadata": {},
     "output_type": "execute_result"
    }
   ],
   "source": [
    "map(str, a)\n",
    "list(map(str, a))"
   ]
  },
  {
   "cell_type": "code",
   "execution_count": null,
   "metadata": {},
   "outputs": [],
   "source": []
  },
  {
   "cell_type": "code",
   "execution_count": 37,
   "metadata": {},
   "outputs": [
    {
     "data": {
      "text/plain": [
       "[2, 4, 6, 8]"
      ]
     },
     "execution_count": 37,
     "metadata": {},
     "output_type": "execute_result"
    }
   ],
   "source": [
    "# 리스트의 각 요소값에 2가 곱해진 리스트를 구하여라\n",
    "list1 = [1, 2, 3, 4]\n",
    "list(map(lambda x: x * 2, list1))\n"
   ]
  },
  {
   "cell_type": "code",
   "execution_count": 39,
   "metadata": {},
   "outputs": [
    {
     "name": "stdout",
     "output_type": "stream",
     "text": [
      "100.0\n"
     ]
    }
   ],
   "source": [
    "# error 발생 방지\n",
    "x = 0\n",
    "try:\n",
    "    x = int(input(\"나눌 숫자를 입력하세요 : \"))\n",
    "    y = 100 / x\n",
    "    print(y)\n",
    "except ZeroDivisionError:\n",
    "    print(\"예외가 발생했습니다.\")"
   ]
  },
  {
   "cell_type": "markdown",
   "metadata": {},
   "source": []
  },
  {
   "cell_type": "code",
   "execution_count": 40,
   "metadata": {},
   "outputs": [
    {
     "data": {
      "text/plain": [
       "0.210272577135739"
      ]
     },
     "execution_count": 40,
     "metadata": {},
     "output_type": "execute_result"
    }
   ],
   "source": [
    "import random\n",
    "random.random() #0~ 1"
   ]
  },
  {
   "cell_type": "code",
   "execution_count": 42,
   "metadata": {},
   "outputs": [
    {
     "data": {
      "text/plain": [
       "6"
      ]
     },
     "execution_count": 42,
     "metadata": {},
     "output_type": "execute_result"
    }
   ],
   "source": [
    "random.randrange(1, 7) #수행할때마다 다른 숫자를 랜덤으로 반환"
   ]
  },
  {
   "cell_type": "code",
   "execution_count": 45,
   "metadata": {},
   "outputs": [
    {
     "name": "stdout",
     "output_type": "stream",
     "text": [
      "Lotto 당첨 번호입니다.\n",
      "=========================\n",
      "[5, 11, 12, 35, 44, 44]\n"
     ]
    }
   ],
   "source": [
    "lotto = [0, 0, 0, 0, 0, 0]\n",
    "lotto[0] = random.randrange(1, 46)\n",
    "lotto[1] = random.randrange(1, 46)\n",
    "lotto[2] = random.randrange(1, 46)\n",
    "lotto[3] = random.randrange(1, 46)\n",
    "lotto[4] = random.randrange(1, 46)\n",
    "lotto[5] = random.randrange(1, 46)\n",
    "\n",
    "lotto.sort()\n",
    "\n",
    "print(\"Lotto 당첨 번호입니다.\")\n",
    "print('=' * 25)\n",
    "print(lotto)"
   ]
  },
  {
   "cell_type": "code",
   "execution_count": 49,
   "metadata": {},
   "outputs": [
    {
     "name": "stdout",
     "output_type": "stream",
     "text": [
      "Lotto 당첨 번호입니다.\n",
      "=========================\n",
      "[14, 15, 21, 30, 34, 43]\n",
      "[7, 17, 20, 38, 40, 45]\n",
      "[1, 8, 14, 21, 25, 27]\n"
     ]
    }
   ],
   "source": [
    "num = int(input(\"Lotto 게임 수를 입력하시오 : \"))\n",
    "print(\"Lotto 당첨 번호입니다.\")\n",
    "print('=' * 25)\n",
    "print(lotto)\n",
    "\n",
    "for x in range(1, num): \n",
    "    lotto = [0, 0, 0, 0, 0, 0]\n",
    "    lotto[0] = random.randrange(1, 46)\n",
    "    lotto[1] = lotto[0]\n",
    "    lotto[2] = lotto[0]\n",
    "    lotto[3] = lotto[0]\n",
    "    lotto[4] = lotto[0]\n",
    "    lotto[5] = lotto[0]\n",
    "\n",
    "\n",
    "    while(lotto[1] == lotto[0]):\n",
    "        lotto[1] = random.randrange(1, 46)\n",
    "\n",
    "    while(lotto[2] == lotto[0] or lotto[2] == lotto[1]):\n",
    "        lotto[2] = random.randrange(1, 46)\n",
    "\n",
    "    while(lotto[3] == lotto[0] or lotto[3] == lotto[1] or lotto[3] == lotto[2]):\n",
    "        lotto[3] = random.randrange(1, 46)\n",
    "\n",
    "    while(lotto[4] == lotto[0] or lotto[4] == lotto[1] or lotto[4] == lotto[2] or lotto[4] == lotto[3]):\n",
    "        lotto[4] = random.randrange(1, 46)\n",
    "    \n",
    "    while(lotto[5] == lotto[0] or lotto[5] == lotto[1] or lotto[5] == lotto[2] or lotto[5] == lotto[3] or lotto[5] == lotto[4]):\n",
    "        lotto[5] = random.randrange(1, 46)\n",
    "\n",
    "\n",
    "    lotto.sort()\n",
    "    print(lotto)"
   ]
  },
  {
   "cell_type": "code",
   "execution_count": 56,
   "metadata": {},
   "outputs": [
    {
     "data": {
      "text/plain": [
       "'80'"
      ]
     },
     "execution_count": 56,
     "metadata": {},
     "output_type": "execute_result"
    }
   ],
   "source": [
    "#Resident Registration Numbr\n",
    "RRN = '80123122222'\n",
    "\n",
    "birth_year = RRN[0:2]\n",
    "birth_month = RRN[2:4]\n",
    "birth_day = RRN[4:6]"
   ]
  },
  {
   "cell_type": "code",
   "execution_count": 57,
   "metadata": {},
   "outputs": [],
   "source": [
    "id_sex = RRN[6]\n",
    "id_local = RRN[7:9]"
   ]
  },
  {
   "cell_type": "code",
   "execution_count": 65,
   "metadata": {},
   "outputs": [
    {
     "name": "stdout",
     "output_type": "stream",
     "text": [
      "생년월일 : 80년 12월 31일\n",
      "성별\t : 여성\n"
     ]
    },
    {
     "ename": "TypeError",
     "evalue": "can only concatenate str (not \"int\") to str",
     "output_type": "error",
     "traceback": [
      "\u001b[0;31m---------------------------------------------------------------------------\u001b[0m",
      "\u001b[0;31mTypeError\u001b[0m                                 Traceback (most recent call last)",
      "Cell \u001b[0;32mIn[65], line 77\u001b[0m\n\u001b[1;32m     75\u001b[0m \u001b[39mprint\u001b[39m(\u001b[39m'\u001b[39m\u001b[39m생년월일 : \u001b[39m\u001b[39m'\u001b[39m \u001b[39m+\u001b[39m birth_year \u001b[39m+\u001b[39m \u001b[39m'\u001b[39m\u001b[39m년 \u001b[39m\u001b[39m'\u001b[39m \u001b[39m+\u001b[39m birth_month \u001b[39m+\u001b[39m \u001b[39m'\u001b[39m\u001b[39m월 \u001b[39m\u001b[39m'\u001b[39m \u001b[39m+\u001b[39m birth_day \u001b[39m+\u001b[39m \u001b[39m'\u001b[39m\u001b[39m일\u001b[39m\u001b[39m'\u001b[39m)\n\u001b[1;32m     76\u001b[0m \u001b[39mprint\u001b[39m(\u001b[39m'\u001b[39m\u001b[39m성별\u001b[39m\u001b[39m\\t\u001b[39;00m\u001b[39m : \u001b[39m\u001b[39m'\u001b[39m \u001b[39m+\u001b[39m sex)\n\u001b[0;32m---> 77\u001b[0m \u001b[39mprint\u001b[39m(\u001b[39m'\u001b[39;49m\u001b[39m출생지역 : \u001b[39;49m\u001b[39m'\u001b[39;49m \u001b[39m+\u001b[39;49m local)\n\u001b[1;32m     78\u001b[0m \u001b[39m# 주민등록번호 유효성 검증\u001b[39;00m\n\u001b[1;32m     81\u001b[0m mul_numbers \u001b[39m=\u001b[39m [\u001b[39m2\u001b[39m, \u001b[39m3\u001b[39m, \u001b[39m4\u001b[39m, \u001b[39m5\u001b[39m, \u001b[39m6\u001b[39m, \u001b[39m7\u001b[39m, \u001b[39m8\u001b[39m, \u001b[39m9\u001b[39m, \u001b[39m2\u001b[39m, \u001b[39m3\u001b[39m, \u001b[39m4\u001b[39m, \u001b[39m5\u001b[39m]\n",
      "\u001b[0;31mTypeError\u001b[0m: can only concatenate str (not \"int\") to str"
     ]
    }
   ],
   "source": [
    "# Resident Registration Number\n",
    "# RRN = input('주민번호를 입력하시오. : ')\n",
    "RRN = '8012312222222'\n",
    "# 생년, 월, 일 변수 설정\n",
    "birth_year = RRN[0:2]\n",
    "birth_month = RRN[2:4]\n",
    "birth_day = RRN[4:6]\n",
    "id_sex = int(RRN[6])\n",
    "local = int(RRN[7:9])\n",
    "\n",
    "\n",
    "if(id_sex >= 5 and id_sex< 9):\n",
    "    nation = \"외국인\"\n",
    "else:\n",
    "    nation = \"내국인\"\n",
    "\n",
    "#성별 탐색\n",
    "if (id_sex %2 == 0):\n",
    "    sex = \"여성\"\n",
    "else:\n",
    "    sex = \"남성\"\n",
    "\n",
    "\n",
    "# 지역 탐색\n",
    "if 0 <= id_local <= 8:\n",
    "    local = '서울특별시'\n",
    "\n",
    "elif 9 <= id_local <= 12:\n",
    "    local = '부산광역시'\n",
    "\n",
    "elif 13 <= id_local <= 15:\n",
    "    local = '인천광역시'\n",
    "\n",
    "elif 16 <= id_local <= 25:\n",
    "    ocal = '경기도'\n",
    "\n",
    "elif 26 <= id_local <= 34:\n",
    "    local = '강원도'\n",
    "\n",
    "elif 35 <= id_local <= 39:\n",
    "    local = '충청북도'\n",
    "\n",
    "elif 40 == id_local:\n",
    "    local = '대전광역시'\n",
    "\n",
    "elif 41 <= id_local <= 43 or 45 <= id_local <= 47:\n",
    "    local = '충청남도'\n",
    "\n",
    "elif id_local == 44 or id_local == 96:\n",
    "    local = '세종특별자치시'\n",
    "\n",
    "elif 48 <= id_local <= 54:\n",
    "    local = '전라북도'\n",
    "\n",
    "elif 55 <= id_local <= 66:\n",
    "    local = '전라남도'\n",
    "\n",
    "elif 65 <= id_local <= 66:\n",
    "    local = '광주광역시'\n",
    "\n",
    "elif 67 <= id_local <= 70:\n",
    "    local = '대구광역시'\n",
    "\n",
    "elif 71 <= id_local <= 81:\n",
    "    local = '경상북도'\n",
    "\n",
    "elif 82 <= id_local <= 84 or 86 <= id_local <= 89 or id_local == 91 :\n",
    "    local = '경상남도'\n",
    "\n",
    "elif id_local == 85 or id_local == 90:\n",
    "    local = '울산광역시'\n",
    "\n",
    "else:\n",
    "    local = '제주특별자치도'\n",
    "print('생년월일 : ' + birth_year + '년 ' + birth_month + '월 ' + birth_day + '일')\n",
    "print('성별\\t : ' + sex)\n",
    "print('출생지역 : ' + local)\n",
    "# 주민등록번호 유효성 검증\n",
    "\n",
    "\n",
    "mul_numbers = [2, 3, 4, 5, 6, 7, 8, 9, 2, 3, 4, 5]\n",
    "total_number = 0\n",
    "\n",
    "for i in range(len(mul_numbers)):\n",
    "    total_number = total_number + int(RRN[i]) * mul_numbers[i]\n",
    "# i = 0일 때, 2 = 0 + 1 * 2\n",
    "# i = 1일 때, 8 = 2 + 2 * 3\n",
    "# 11- (총 합계에서 11을 나눈 나머지)\n",
    "value = 11 - (total_number % 11)\n",
    "# 10이 나오면 0 11이 나오면 1로 간주\n",
    "if 10 <= value <= 11:\n",
    "    value = value -10\n",
    "else:\n",
    "    value\n",
    "if str(value) == RRN[-1]:\n",
    "    print('유효한 주민번호입니다.')\n",
    "else:\n",
    "    print('유효하지 않은 주민번호입니다.')"
   ]
  },
  {
   "cell_type": "code",
   "execution_count": null,
   "metadata": {},
   "outputs": [],
   "source": []
  },
  {
   "cell_type": "code",
   "execution_count": null,
   "metadata": {},
   "outputs": [],
   "source": []
  }
 ],
 "metadata": {
  "kernelspec": {
   "display_name": "Python 3",
   "language": "python",
   "name": "python3"
  },
  "language_info": {
   "codemirror_mode": {
    "name": "ipython",
    "version": 3
   },
   "file_extension": ".py",
   "mimetype": "text/x-python",
   "name": "python",
   "nbconvert_exporter": "python",
   "pygments_lexer": "ipython3",
   "version": "3.9.6"
  },
  "orig_nbformat": 4
 },
 "nbformat": 4,
 "nbformat_minor": 2
}
